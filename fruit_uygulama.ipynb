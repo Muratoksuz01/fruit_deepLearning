{
 "cells": [
  {
   "cell_type": "code",
   "execution_count": 2,
   "metadata": {},
   "outputs": [
    {
     "name": "stderr",
     "output_type": "stream",
     "text": [
      "2023-12-14 16:20:10.909339: I tensorflow/core/util/port.cc:113] oneDNN custom operations are on. You may see slightly different numerical results due to floating-point round-off errors from different computation orders. To turn them off, set the environment variable `TF_ENABLE_ONEDNN_OPTS=0`.\n",
      "2023-12-14 16:20:10.912002: I external/local_tsl/tsl/cuda/cudart_stub.cc:31] Could not find cuda drivers on your machine, GPU will not be used.\n",
      "2023-12-14 16:20:10.953124: E external/local_xla/xla/stream_executor/cuda/cuda_dnn.cc:9261] Unable to register cuDNN factory: Attempting to register factory for plugin cuDNN when one has already been registered\n",
      "2023-12-14 16:20:10.953168: E external/local_xla/xla/stream_executor/cuda/cuda_fft.cc:607] Unable to register cuFFT factory: Attempting to register factory for plugin cuFFT when one has already been registered\n",
      "2023-12-14 16:20:10.954298: E external/local_xla/xla/stream_executor/cuda/cuda_blas.cc:1515] Unable to register cuBLAS factory: Attempting to register factory for plugin cuBLAS when one has already been registered\n",
      "2023-12-14 16:20:10.960001: I external/local_tsl/tsl/cuda/cudart_stub.cc:31] Could not find cuda drivers on your machine, GPU will not be used.\n",
      "2023-12-14 16:20:10.960657: I tensorflow/core/platform/cpu_feature_guard.cc:182] This TensorFlow binary is optimized to use available CPU instructions in performance-critical operations.\n",
      "To enable the following instructions: AVX2 AVX512F AVX512_VNNI FMA, in other operations, rebuild TensorFlow with the appropriate compiler flags.\n",
      "2023-12-14 16:20:12.199338: W tensorflow/compiler/tf2tensorrt/utils/py_utils.cc:38] TF-TRT Warning: Could not find TensorRT\n"
     ]
    }
   ],
   "source": [
    "import cv2,pickle,warnings\n",
    "import  numpy as np\n",
    "warnings.simplefilter(\"ignore\")\n",
    "def preProcess(img):\n",
    "    img = cv2.cvtColor(img, cv2.COLOR_BGR2GRAY)\n",
    "    img = cv2.equalizeHist(img)\n",
    "    img = img / 255\n",
    "    return img\n",
    "pickle_in=open(\"model_fruit.p\",\"rb\")\n",
    "model = pickle.load(pickle_in)\n",
    "\n"
   ]
  },
  {
   "cell_type": "code",
   "execution_count": 17,
   "metadata": {},
   "outputs": [
    {
     "name": "stdout",
     "output_type": "stream",
     "text": [
      "1/1 [==============================] - 0s 24ms/step\n",
      "[[8.8019320e-14 2.3905211e-27 1.3047537e-15 1.0000000e+00 1.9285815e-14\n",
      "  2.2289974e-30 1.3405670e-19]]\n",
      "burası: 3 1.0\n"
     ]
    },
    {
     "data": {
      "text/plain": [
       "'\\n0 > apple\\n1 >cabbase\\n2 > carrot\\n3 > cucumber\\n4 >eggplant\\n5 > pear\\n6 > zucchini\\n\\n'"
      ]
     },
     "execution_count": 17,
     "metadata": {},
     "output_type": "execute_result"
    }
   ],
   "source": [
    "path=\"/home/murat/Downloads/source/fruit/fruits-360_dataset/fruits-360/test-multiple_fruits/apple_pear.jpg\"\n",
    "img=cv2.imread(path)\n",
    "img=np.asarray(img)\n",
    "img=cv2.resize(img,(150,150))\n",
    "img=preProcess(img)\n",
    "img = np.reshape(img, (1, 150,150, 1))  # Reshape for model prediction\n",
    "predictions = model.predict(img)\n",
    "print(predictions)\n",
    "classIndex = np.argmax(predictions)\n",
    "probVal=np.amax(predictions)\n",
    "print(\"burası:\", classIndex, probVal)\n",
    "\"\"\"\n",
    "0 > apple\n",
    "1 >cabbase\n",
    "2 > carrot\n",
    "3 > cucumber\n",
    "4 >eggplant\n",
    "5 > pear\n",
    "6 > zucchini\n",
    "\n",
    "\"\"\""
   ]
  },
  {
   "cell_type": "code",
   "execution_count": null,
   "metadata": {},
   "outputs": [],
   "source": [
    "cap=cv2.VideoCapture(0)\n",
    "cap.set(3,480)\n",
    "cap.set(4,480)\n",
    "while True:\n",
    "    succes,frame=cap.read()\n",
    "    img=np.asarray(frame)\n",
    "    img=cv2.resize(img,(150,150))\n",
    "    img=preProcess(img)\n",
    "    img = np.reshape(img, (1, 150,150, 1))  # Reshape for model prediction\n",
    "    predictions = model.predict(img)\n",
    "    print(predictions)\n",
    "    classIndex = np.argmax(predictions)\n",
    "    probVal=np.amax(predictions)\n",
    "    print(classIndex, probVal)\n",
    "    if probVal >0.7:\n",
    "        cv2.putText(frame,str(classIndex)+\"    \"+str(probVal),(50,50),\n",
    "                    cv2.FONT_HERSHEY_DUPLEX,1,(255,255,255),1)\n",
    "    cv2.imshow(\" Rakam  Siniflandirma \",frame)\n",
    "    if cv2.waitKey(1) & 0xFF == ord('q'):break\n",
    "cap.release()\n",
    "cv2.destroyAllWindows()"
   ]
  }
 ],
 "metadata": {
  "kernelspec": {
   "display_name": "Python 3",
   "language": "python",
   "name": "python3"
  },
  "language_info": {
   "codemirror_mode": {
    "name": "ipython",
    "version": 3
   },
   "file_extension": ".py",
   "mimetype": "text/x-python",
   "name": "python",
   "nbconvert_exporter": "python",
   "pygments_lexer": "ipython3",
   "version": "3.10.12"
  }
 },
 "nbformat": 4,
 "nbformat_minor": 2
}
